{
 "cells": [
  {
   "cell_type": "code",
   "execution_count": 1,
   "id": "8e58eb6b-b0ea-4c74-a54d-0981634e67c8",
   "metadata": {},
   "outputs": [],
   "source": [
    "from kafka import KafkaConsumer, KafkaProducer\n",
    "import pyspark\n",
    "from pyspark.sql import SparkSession\n",
    "import pyspark.sql.functions as F\n",
    "import pyspark.sql.types as T\n",
    "import json\n",
    "import pandas as pd"
   ]
  },
  {
   "cell_type": "code",
   "execution_count": 2,
   "id": "1066aaa9-f448-4967-8ce9-9a9053907b65",
   "metadata": {},
   "outputs": [],
   "source": [
    "spark = (\n",
    "    SparkSession.builder.master(\"local[1]\")\n",
    "    .appName(\"Data Transformation\")\n",
    "    .config(\"spark.jars.packages\", \"org.apache.spark:spark-sql-kafka-0-10_2.12:3.3.1\")\n",
    "    .getOrCreate()\n",
    ")"
   ]
  },
  {
   "cell_type": "code",
   "execution_count": 3,
   "id": "b90146e7-9d14-450f-85e6-7f754ec2b792",
   "metadata": {
    "tags": []
   },
   "outputs": [
    {
     "data": {
      "text/html": [
       "\n",
       "            <div>\n",
       "                <p><b>SparkSession - in-memory</b></p>\n",
       "                \n",
       "        <div>\n",
       "            <p><b>SparkContext</b></p>\n",
       "\n",
       "            <p><a href=\"http://192.168.0.220:4040\">Spark UI</a></p>\n",
       "\n",
       "            <dl>\n",
       "              <dt>Version</dt>\n",
       "                <dd><code>v3.3.1</code></dd>\n",
       "              <dt>Master</dt>\n",
       "                <dd><code>local[1]</code></dd>\n",
       "              <dt>AppName</dt>\n",
       "                <dd><code>Data Transformation</code></dd>\n",
       "            </dl>\n",
       "        </div>\n",
       "        \n",
       "            </div>\n",
       "        "
      ],
      "text/plain": [
       "<pyspark.sql.session.SparkSession at 0x7f2628b4f790>"
      ]
     },
     "execution_count": 3,
     "metadata": {},
     "output_type": "execute_result"
    }
   ],
   "source": [
    "spark"
   ]
  },
  {
   "cell_type": "code",
   "execution_count": 4,
   "id": "be6a1ab2-e2dd-4ac3-8abc-391145312bfe",
   "metadata": {},
   "outputs": [],
   "source": [
    "titanic_schema = T.StructType([\n",
    "    T.StructField(\"Timestamp\", T.TimestampType(), True),\n",
    "    T.StructField(\"string_columns\", T.StructType([\n",
    "        T.StructField(\"Name\", T.StringType(), True),\n",
    "        T.StructField(\"Sex\", T.StringType(), True),\n",
    "        T.StructField(\"Age\", T.StringType(), True),\n",
    "        T.StructField(\"Ticket\", T.StringType(), True),\n",
    "        T.StructField(\"Fare\", T.StringType(), True),\n",
    "        T.StructField(\"Embarked\", T.StringType(), True)\n",
    "    ]), True),\n",
    "    T.StructField(\"numeric_columns\", T.StructType([\n",
    "        T.StructField(\"PassengerId\", T.IntegerType(), True),\n",
    "        T.StructField(\"Survived\", T.IntegerType(), True),\n",
    "        T.StructField(\"Pclass\", T.IntegerType(), True),\n",
    "        T.StructField(\"SibSp\", T.IntegerType(), True),\n",
    "        T.StructField(\"Parch\", T.IntegerType(), True)\n",
    "    ]), True)\n",
    "])"
   ]
  },
  {
   "cell_type": "code",
   "execution_count": 5,
   "id": "98e14773-6ab5-4201-a304-08385f8420d6",
   "metadata": {
    "tags": []
   },
   "outputs": [
    {
     "name": "stdout",
     "output_type": "stream",
     "text": [
      "root\n",
      " |-- key: binary (nullable = true)\n",
      " |-- value: binary (nullable = true)\n",
      " |-- topic: string (nullable = true)\n",
      " |-- partition: integer (nullable = true)\n",
      " |-- offset: long (nullable = true)\n",
      " |-- timestamp: timestamp (nullable = true)\n",
      " |-- timestampType: integer (nullable = true)\n",
      "\n"
     ]
    }
   ],
   "source": [
    "df = spark \\\n",
    "  .read \\\n",
    "  .format(\"kafka\") \\\n",
    "  .option(\"kafka.bootstrap.servers\", \"localhost:9092\") \\\n",
    "  .option(\"subscribe\", \"topic_nested\") \\\n",
    "  .option(\"failOnDataLoss\", \"true\") \\\n",
    "  .load()\n",
    "df.printSchema()"
   ]
  },
  {
   "cell_type": "code",
   "execution_count": 6,
   "id": "1106ba1a-23bf-4cfc-89eb-3b8e9cdda843",
   "metadata": {
    "tags": []
   },
   "outputs": [],
   "source": [
    "df= df.withColumn(\"message_content\", F.from_json(F.col(\"value\").cast(\"string\"), titanic_schema))\n",
    "df_minimal = df.select(\"message_content.*\")"
   ]
  },
  {
   "cell_type": "code",
   "execution_count": 7,
   "id": "82c66eb7-9d92-4b66-a2ee-bf7977125e59",
   "metadata": {
    "tags": []
   },
   "outputs": [
    {
     "name": "stdout",
     "output_type": "stream",
     "text": [
      "+-------------------+--------------------+----------------+\n",
      "|          Timestamp|      string_columns| numeric_columns|\n",
      "+-------------------+--------------------+----------------+\n",
      "|2020-01-01 13:45:25|{Braund, Mr. Owen...| {1, 0, 3, 1, 0}|\n",
      "|2020-01-01 13:44:48|{Cumings, Mrs. Jo...| {2, 1, 1, 1, 0}|\n",
      "|2020-01-01 13:38:11|{Heikkinen, Miss....| {3, 1, 3, 0, 0}|\n",
      "|2020-01-01 13:32:00|{Futrelle, Mrs. J...| {4, 1, 1, 1, 0}|\n",
      "|2020-01-01 13:36:30|{Allen, Mr. Willi...| {5, 0, 3, 0, 0}|\n",
      "|2020-01-01 13:31:39|{Moran, Mr. James...| {6, 0, 3, 0, 0}|\n",
      "|2020-01-01 13:37:31|{McCarthy, Mr. Ti...| {7, 0, 1, 0, 0}|\n",
      "|2020-01-01 13:49:08|{Palsson, Master....| {8, 0, 3, 3, 1}|\n",
      "|2020-01-01 13:33:42|{Johnson, Mrs. Os...| {9, 1, 3, 0, 2}|\n",
      "|2020-01-01 13:32:53|{Nasser, Mrs. Nic...|{10, 1, 2, 1, 0}|\n",
      "|2020-01-01 13:32:23|{Sandstrom, Miss....|{11, 1, 3, 1, 1}|\n",
      "|2020-01-01 13:30:12|{Bonnell, Miss. E...|{12, 1, 1, 0, 0}|\n",
      "|2020-01-01 13:33:34|{Saundercock, Mr....|{13, 0, 3, 0, 0}|\n",
      "|2020-01-01 13:30:20|{Andersson, Mr. A...|{14, 0, 3, 1, 5}|\n",
      "|2020-01-01 13:41:17|{Vestrom, Miss. H...|{15, 0, 3, 0, 0}|\n",
      "|2020-01-01 13:34:22|{Hewlett, Mrs. (M...|{16, 1, 2, 0, 0}|\n",
      "|2020-01-01 13:41:55|{Rice, Master. Eu...|{17, 0, 3, 4, 1}|\n",
      "|2020-01-01 13:39:35|{Williams, Mr. Ch...|{18, 1, 2, 0, 0}|\n",
      "|2020-01-01 13:39:38|{Vander Planke, M...|{19, 0, 3, 1, 0}|\n",
      "|2020-01-01 13:36:56|{Masselmani, Mrs....|{20, 1, 3, 0, 0}|\n",
      "+-------------------+--------------------+----------------+\n",
      "only showing top 20 rows\n",
      "\n"
     ]
    }
   ],
   "source": [
    "df_minimal.show()"
   ]
  },
  {
   "cell_type": "code",
   "execution_count": 16,
   "id": "ebe175de-7bc9-4848-95d3-710aae4f10e6",
   "metadata": {},
   "outputs": [],
   "source": [
    "new_df= df_minimal.select(\"Timestamp\",\"string_columns.Name\",\"string_columns.Sex\",\"string_columns.Age\",\"string_columns.Ticket\",\"string_columns.Fare\",\"string_columns.Embarked\",\"numeric_columns.PassengerId\",\"numeric_columns.Survived\",\"numeric_columns.Pclass\",\"numeric_columns.SibSp\",\"numeric_columns.Parch\")"
   ]
  },
  {
   "cell_type": "code",
   "execution_count": 17,
   "id": "4fc83617-8678-4307-a77c-599bed6d6424",
   "metadata": {},
   "outputs": [
    {
     "name": "stdout",
     "output_type": "stream",
     "text": [
      "+-------------------+--------------------+------+----+----------------+-------+--------+-----------+--------+------+-----+-----+\n",
      "|          Timestamp|                Name|   Sex| Age|          Ticket|   Fare|Embarked|PassengerId|Survived|Pclass|SibSp|Parch|\n",
      "+-------------------+--------------------+------+----+----------------+-------+--------+-----------+--------+------+-----+-----+\n",
      "|2020-01-01 13:45:25|Braund, Mr. Owen ...|  male|  22|       A/5 21171|   7.25|       S|          1|       0|     3|    1|    0|\n",
      "|2020-01-01 13:44:48|Cumings, Mrs. Joh...|female|  38|        PC 17599|71.2833|       C|          2|       1|     1|    1|    0|\n",
      "|2020-01-01 13:38:11|Heikkinen, Miss. ...|female|  26|STON/O2. 3101282|  7.925|       S|          3|       1|     3|    0|    0|\n",
      "|2020-01-01 13:32:00|Futrelle, Mrs. Ja...|female|  35|          113803|   53.1|       S|          4|       1|     1|    1|    0|\n",
      "|2020-01-01 13:36:30|Allen, Mr. Willia...|  male|  35|          373450|   8.05|       S|          5|       0|     3|    0|    0|\n",
      "|2020-01-01 13:31:39|    Moran, Mr. James|  male|null|          330877| 8.4583|       Q|          6|       0|     3|    0|    0|\n",
      "|2020-01-01 13:37:31|McCarthy, Mr. Tim...|  male|  54|           17463|51.8625|       S|          7|       0|     1|    0|    0|\n",
      "|2020-01-01 13:49:08|Palsson, Master. ...|  male|   2|          349909| 21.075|       S|          8|       0|     3|    3|    1|\n",
      "|2020-01-01 13:33:42|Johnson, Mrs. Osc...|female|  27|          347742|11.1333|       S|          9|       1|     3|    0|    2|\n",
      "|2020-01-01 13:32:53|Nasser, Mrs. Nich...|female|  14|          237736|30.0708|       C|         10|       1|     2|    1|    0|\n",
      "|2020-01-01 13:32:23|Sandstrom, Miss. ...|female|   4|         PP 9549|   16.7|       S|         11|       1|     3|    1|    1|\n",
      "|2020-01-01 13:30:12|Bonnell, Miss. El...|female|  58|          113783|  26.55|       S|         12|       1|     1|    0|    0|\n",
      "|2020-01-01 13:33:34|Saundercock, Mr. ...|  male|  20|       A/5. 2151|   8.05|       S|         13|       0|     3|    0|    0|\n",
      "|2020-01-01 13:30:20|Andersson, Mr. An...|  male|  39|          347082| 31.275|       S|         14|       0|     3|    1|    5|\n",
      "|2020-01-01 13:41:17|Vestrom, Miss. Hu...|female|  14|          350406| 7.8542|       S|         15|       0|     3|    0|    0|\n",
      "|2020-01-01 13:34:22|Hewlett, Mrs. (Ma...|female|  55|          248706|   16.0|       S|         16|       1|     2|    0|    0|\n",
      "|2020-01-01 13:41:55|Rice, Master. Eugene|  male|   2|          382652| 29.125|       Q|         17|       0|     3|    4|    1|\n",
      "|2020-01-01 13:39:35|Williams, Mr. Cha...|  male|null|          244373|   13.0|       S|         18|       1|     2|    0|    0|\n",
      "|2020-01-01 13:39:38|Vander Planke, Mr...|female|  31|          345763|   18.0|       S|         19|       0|     3|    1|    0|\n",
      "|2020-01-01 13:36:56|Masselmani, Mrs. ...|female|null|            2649|  7.225|       C|         20|       1|     3|    0|    0|\n",
      "+-------------------+--------------------+------+----+----------------+-------+--------+-----------+--------+------+-----+-----+\n",
      "only showing top 20 rows\n",
      "\n"
     ]
    }
   ],
   "source": [
    "new_df.show()"
   ]
  },
  {
   "cell_type": "code",
   "execution_count": 18,
   "id": "9347f764-36de-4fb3-9aae-1bea0bea3389",
   "metadata": {},
   "outputs": [
    {
     "name": "stdout",
     "output_type": "stream",
     "text": [
      "+-------------------+--------------------+------+----+-----------------+--------+--------+-----------+--------+------+-----+-----+\n",
      "|          Timestamp|                Name|   Sex| Age|           Ticket|    Fare|Embarked|PassengerId|Survived|Pclass|SibSp|Parch|\n",
      "+-------------------+--------------------+------+----+-----------------+--------+--------+-----------+--------+------+-----+-----+\n",
      "|2020-01-01 13:46:21|\"Lovell, Mr. John...|  male|  20|        A/5 21173|    7.25|       S|        228|       0|     3|    0|    0|\n",
      "|2020-01-01 13:36:37|Cardeza, Mr. Thom...|  male|  36|         PC 17755|512.3292|       C|        680|       1|     1|    0|    1|\n",
      "|2020-01-01 13:36:29|Alexander, Mr. Wi...|  male|  26|             3474|  7.8875|       S|        811|       0|     3|    0|    0|\n",
      "|2020-01-01 13:39:42|    Calic, Mr. Petar|  male|  17|           315086|  8.6625|       S|        501|       0|     3|    0|    0|\n",
      "|2020-01-01 13:32:00|Futrelle, Mrs. Ja...|female|  35|           113803|    53.1|       S|          4|       1|     1|    1|    0|\n",
      "|2020-01-01 13:40:15|\"Parkes, Mr. Fran...|  male|null|           239853|     0.0|       S|        278|       0|     2|    0|    0|\n",
      "|2020-01-01 13:34:35|Jansson, Mr. Carl...|  male|  21|           350034|  7.7958|       S|        392|       1|     3|    0|    0|\n",
      "|2020-01-01 13:41:31|    Flynn, Mr. James|  male|null|           364851|    7.75|       Q|        429|       0|     3|    0|    0|\n",
      "|2020-01-01 13:30:12|  Richard, Mr. Emile|  male|  23|    SC/PARIS 2133| 15.0458|       C|        136|       0|     2|    0|    0|\n",
      "|2020-01-01 13:32:38|Goodwin, Master. ...|  male|   1|          CA 2144|    46.9|       S|        387|       0|     3|    5|    2|\n",
      "|2020-01-01 13:46:16|  Gale, Mr. Shadrach|  male|  34|            28664|    21.0|       S|        406|       0|     2|    1|    0|\n",
      "|2020-01-01 13:36:12|Kallio, Mr. Nikol...|  male|  17|STON/O 2. 3101274|   7.125|       S|        434|       0|     3|    0|    0|\n",
      "|2020-01-01 13:32:29|Daly, Mr. Eugene ...|  male|  29|           382651|    7.75|       Q|        511|       1|     3|    0|    0|\n",
      "|2020-01-01 13:48:27| Moor, Master. Meier|  male|   6|           392096|  12.475|       S|        752|       1|     3|    0|    1|\n",
      "|2020-01-01 13:42:18|Guggenheim, Mr. B...|  male|  46|         PC 17593|    79.2|       C|        790|       0|     1|    0|    0|\n",
      "|2020-01-01 13:40:34|Carter, Rev. Erne...|  male|  54|           244252|    26.0|       S|        250|       0|     2|    1|    0|\n",
      "|2020-01-01 13:36:16|Becker, Miss. Mar...|female|   4|           230136|    39.0|       S|        619|       1|     2|    2|    1|\n",
      "|2020-01-01 13:42:07|        Lam, Mr. Ali|  male|null|             1601| 56.4958|       S|        693|       1|     3|    0|    0|\n",
      "|2020-01-01 13:39:32|Barbara, Miss. Sa...|female|  18|             2691| 14.4542|       C|        703|       0|     3|    0|    1|\n",
      "|2020-01-01 13:41:46|   Wells, Miss. Joan|female|   4|            29103|    23.0|       S|        751|       1|     2|    1|    1|\n",
      "+-------------------+--------------------+------+----+-----------------+--------+--------+-----------+--------+------+-----+-----+\n",
      "only showing top 20 rows\n",
      "\n"
     ]
    }
   ],
   "source": [
    "df_remove_duplicates = new_df.dropDuplicates()\n",
    "df_remove_duplicates.show()"
   ]
  },
  {
   "cell_type": "code",
   "execution_count": 19,
   "id": "01400aed-2f0c-42ec-89d7-a68a6b53a036",
   "metadata": {},
   "outputs": [],
   "source": [
    "Num_duplicates_dropped=new_df.count() - df_remove_duplicates.count()"
   ]
  },
  {
   "cell_type": "code",
   "execution_count": 21,
   "id": "55eac3d8-9279-4021-ad32-ee6f406e1f83",
   "metadata": {},
   "outputs": [
    {
     "data": {
      "text/plain": [
       "891"
      ]
     },
     "execution_count": 21,
     "metadata": {},
     "output_type": "execute_result"
    }
   ],
   "source": [
    "Num_duplicates_dropped"
   ]
  },
  {
   "cell_type": "code",
   "execution_count": 22,
   "id": "27788e86-ab32-4fa6-b210-b4874cfa3a27",
   "metadata": {},
   "outputs": [],
   "source": [
    "drop_null_df=df_remove_duplicates.na.drop(subset=[\"Age\",\"Embarked\"])"
   ]
  },
  {
   "cell_type": "code",
   "execution_count": 23,
   "id": "df341080-1d1c-43c9-960e-728b9fa7c5d5",
   "metadata": {},
   "outputs": [
    {
     "name": "stdout",
     "output_type": "stream",
     "text": [
      "+-------------------+--------------------+------+---+-----------------+--------+--------+-----------+--------+------+-----+-----+\n",
      "|          Timestamp|                Name|   Sex|Age|           Ticket|    Fare|Embarked|PassengerId|Survived|Pclass|SibSp|Parch|\n",
      "+-------------------+--------------------+------+---+-----------------+--------+--------+-----------+--------+------+-----+-----+\n",
      "|2020-01-01 13:46:21|\"Lovell, Mr. John...|  male| 20|        A/5 21173|    7.25|       S|        228|       0|     3|    0|    0|\n",
      "|2020-01-01 13:36:37|Cardeza, Mr. Thom...|  male| 36|         PC 17755|512.3292|       C|        680|       1|     1|    0|    1|\n",
      "|2020-01-01 13:36:29|Alexander, Mr. Wi...|  male| 26|             3474|  7.8875|       S|        811|       0|     3|    0|    0|\n",
      "|2020-01-01 13:39:42|    Calic, Mr. Petar|  male| 17|           315086|  8.6625|       S|        501|       0|     3|    0|    0|\n",
      "|2020-01-01 13:32:00|Futrelle, Mrs. Ja...|female| 35|           113803|    53.1|       S|          4|       1|     1|    1|    0|\n",
      "|2020-01-01 13:34:35|Jansson, Mr. Carl...|  male| 21|           350034|  7.7958|       S|        392|       1|     3|    0|    0|\n",
      "|2020-01-01 13:30:12|  Richard, Mr. Emile|  male| 23|    SC/PARIS 2133| 15.0458|       C|        136|       0|     2|    0|    0|\n",
      "|2020-01-01 13:32:38|Goodwin, Master. ...|  male|  1|          CA 2144|    46.9|       S|        387|       0|     3|    5|    2|\n",
      "|2020-01-01 13:46:16|  Gale, Mr. Shadrach|  male| 34|            28664|    21.0|       S|        406|       0|     2|    1|    0|\n",
      "|2020-01-01 13:36:12|Kallio, Mr. Nikol...|  male| 17|STON/O 2. 3101274|   7.125|       S|        434|       0|     3|    0|    0|\n",
      "|2020-01-01 13:32:29|Daly, Mr. Eugene ...|  male| 29|           382651|    7.75|       Q|        511|       1|     3|    0|    0|\n",
      "|2020-01-01 13:48:27| Moor, Master. Meier|  male|  6|           392096|  12.475|       S|        752|       1|     3|    0|    1|\n",
      "|2020-01-01 13:42:18|Guggenheim, Mr. B...|  male| 46|         PC 17593|    79.2|       C|        790|       0|     1|    0|    0|\n",
      "|2020-01-01 13:40:34|Carter, Rev. Erne...|  male| 54|           244252|    26.0|       S|        250|       0|     2|    1|    0|\n",
      "|2020-01-01 13:36:16|Becker, Miss. Mar...|female|  4|           230136|    39.0|       S|        619|       1|     2|    2|    1|\n",
      "|2020-01-01 13:39:32|Barbara, Miss. Sa...|female| 18|             2691| 14.4542|       C|        703|       0|     3|    0|    1|\n",
      "|2020-01-01 13:41:46|   Wells, Miss. Joan|female|  4|            29103|    23.0|       S|        751|       1|     2|    1|    1|\n",
      "|2020-01-01 13:38:48|Carter, Mrs. Will...|female| 36|           113760|   120.0|       S|        764|       1|     1|    1|    2|\n",
      "|2020-01-01 13:31:47| Webber, Miss. Susan|female| 32|            27267|    13.0|       S|        124|       1|     2|    0|    0|\n",
      "|2020-01-01 13:42:33|   Mack, Mrs. (Mary)|female| 57|      S.O./P.P. 3|    10.5|       S|        773|       0|     2|    0|    0|\n",
      "+-------------------+--------------------+------+---+-----------------+--------+--------+-----------+--------+------+-----+-----+\n",
      "only showing top 20 rows\n",
      "\n"
     ]
    }
   ],
   "source": [
    "drop_null_df.show()"
   ]
  },
  {
   "cell_type": "code",
   "execution_count": 24,
   "id": "2b850ce2-06c6-4555-9788-27d076bff899",
   "metadata": {},
   "outputs": [],
   "source": [
    "Num_nulls_dropped=df_remove_duplicates.count() - drop_null_df.count()"
   ]
  },
  {
   "cell_type": "code",
   "execution_count": 25,
   "id": "8b75c538-75f3-42f6-8aeb-716c2ce91333",
   "metadata": {},
   "outputs": [
    {
     "data": {
      "text/plain": [
       "179"
      ]
     },
     "execution_count": 25,
     "metadata": {},
     "output_type": "execute_result"
    }
   ],
   "source": [
    "Num_nulls_dropped"
   ]
  },
  {
   "cell_type": "code",
   "execution_count": 26,
   "id": "0cae2b14-e25e-49fe-8099-87774fa44273",
   "metadata": {},
   "outputs": [
    {
     "name": "stdout",
     "output_type": "stream",
     "text": [
      "+-------------------+--------------------+------+---+-----------------+--------+--------+-----------+--------+\n",
      "|          Timestamp|                Name|   Sex|Age|           Ticket|    Fare|Embarked|PassengerId|Survived|\n",
      "+-------------------+--------------------+------+---+-----------------+--------+--------+-----------+--------+\n",
      "|2020-01-01 13:46:21|\"Lovell, Mr. John...|  male| 20|        A/5 21173|    7.25|       S|        228|       0|\n",
      "|2020-01-01 13:36:37|Cardeza, Mr. Thom...|  male| 36|         PC 17755|512.3292|       C|        680|       1|\n",
      "|2020-01-01 13:36:29|Alexander, Mr. Wi...|  male| 26|             3474|  7.8875|       S|        811|       0|\n",
      "|2020-01-01 13:39:42|    Calic, Mr. Petar|  male| 17|           315086|  8.6625|       S|        501|       0|\n",
      "|2020-01-01 13:32:00|Futrelle, Mrs. Ja...|female| 35|           113803|    53.1|       S|          4|       1|\n",
      "|2020-01-01 13:34:35|Jansson, Mr. Carl...|  male| 21|           350034|  7.7958|       S|        392|       1|\n",
      "|2020-01-01 13:30:12|  Richard, Mr. Emile|  male| 23|    SC/PARIS 2133| 15.0458|       C|        136|       0|\n",
      "|2020-01-01 13:32:38|Goodwin, Master. ...|  male|  1|          CA 2144|    46.9|       S|        387|       0|\n",
      "|2020-01-01 13:46:16|  Gale, Mr. Shadrach|  male| 34|            28664|    21.0|       S|        406|       0|\n",
      "|2020-01-01 13:36:12|Kallio, Mr. Nikol...|  male| 17|STON/O 2. 3101274|   7.125|       S|        434|       0|\n",
      "|2020-01-01 13:32:29|Daly, Mr. Eugene ...|  male| 29|           382651|    7.75|       Q|        511|       1|\n",
      "|2020-01-01 13:48:27| Moor, Master. Meier|  male|  6|           392096|  12.475|       S|        752|       1|\n",
      "|2020-01-01 13:42:18|Guggenheim, Mr. B...|  male| 46|         PC 17593|    79.2|       C|        790|       0|\n",
      "|2020-01-01 13:40:34|Carter, Rev. Erne...|  male| 54|           244252|    26.0|       S|        250|       0|\n",
      "|2020-01-01 13:36:16|Becker, Miss. Mar...|female|  4|           230136|    39.0|       S|        619|       1|\n",
      "|2020-01-01 13:39:32|Barbara, Miss. Sa...|female| 18|             2691| 14.4542|       C|        703|       0|\n",
      "|2020-01-01 13:41:46|   Wells, Miss. Joan|female|  4|            29103|    23.0|       S|        751|       1|\n",
      "|2020-01-01 13:38:48|Carter, Mrs. Will...|female| 36|           113760|   120.0|       S|        764|       1|\n",
      "|2020-01-01 13:31:47| Webber, Miss. Susan|female| 32|            27267|    13.0|       S|        124|       1|\n",
      "|2020-01-01 13:42:33|   Mack, Mrs. (Mary)|female| 57|      S.O./P.P. 3|    10.5|       S|        773|       0|\n",
      "+-------------------+--------------------+------+---+-----------------+--------+--------+-----------+--------+\n",
      "only showing top 20 rows\n",
      "\n"
     ]
    }
   ],
   "source": [
    "drop_col_df=drop_null_df.drop(\"Pclass\",\"SibSp\",\"Parch\")\n",
    "drop_col_df.show()"
   ]
  },
  {
   "cell_type": "code",
   "execution_count": 27,
   "id": "f194a7d8-5b5d-4f51-9c17-b059eada4a8d",
   "metadata": {},
   "outputs": [
    {
     "name": "stdout",
     "output_type": "stream",
     "text": [
      "root\n",
      " |-- Timestamp: timestamp (nullable = true)\n",
      " |-- Name: string (nullable = true)\n",
      " |-- Sex: string (nullable = true)\n",
      " |-- Age: string (nullable = true)\n",
      " |-- Ticket: string (nullable = true)\n",
      " |-- Fare: string (nullable = true)\n",
      " |-- Embarked: string (nullable = true)\n",
      " |-- PassengerId: integer (nullable = true)\n",
      " |-- Survived: integer (nullable = true)\n",
      "\n"
     ]
    }
   ],
   "source": [
    "drop_col_df.printSchema()"
   ]
  },
  {
   "cell_type": "code",
   "execution_count": 36,
   "id": "da0b43b8-2568-4d47-8d35-e39d41b91626",
   "metadata": {},
   "outputs": [],
   "source": [
    "final_dataframe=drop_col_df.withColumn(\"Age\",F.col(\"Age\").cast(T.IntegerType())).withColumn(\"Fare\",F.col(\"Fare\").cast(T.FloatType()))"
   ]
  },
  {
   "cell_type": "code",
   "execution_count": 37,
   "id": "1ddd408f-8f54-489b-9332-7524beab51f3",
   "metadata": {},
   "outputs": [
    {
     "name": "stdout",
     "output_type": "stream",
     "text": [
      "root\n",
      " |-- Timestamp: timestamp (nullable = true)\n",
      " |-- Name: string (nullable = true)\n",
      " |-- Sex: string (nullable = true)\n",
      " |-- Age: integer (nullable = true)\n",
      " |-- Ticket: string (nullable = true)\n",
      " |-- Fare: float (nullable = true)\n",
      " |-- Embarked: string (nullable = true)\n",
      " |-- PassengerId: integer (nullable = true)\n",
      " |-- Survived: integer (nullable = true)\n",
      "\n"
     ]
    }
   ],
   "source": [
    "final_dataframe.printSchema()"
   ]
  },
  {
   "cell_type": "code",
   "execution_count": 38,
   "id": "3eeb1062-ab32-4c7f-973f-086ae47f1ed3",
   "metadata": {},
   "outputs": [],
   "source": [
    "final_dataframe.write.json(\"transformed_data\")"
   ]
  },
  {
   "cell_type": "code",
   "execution_count": null,
   "id": "ba2c34b9-f9e2-473b-bc0f-ea1f7fc80980",
   "metadata": {},
   "outputs": [],
   "source": []
  }
 ],
 "metadata": {
  "kernelspec": {
   "display_name": "Python 3 (ipykernel)",
   "language": "python",
   "name": "python3"
  },
  "language_info": {
   "codemirror_mode": {
    "name": "ipython",
    "version": 3
   },
   "file_extension": ".py",
   "mimetype": "text/x-python",
   "name": "python",
   "nbconvert_exporter": "python",
   "pygments_lexer": "ipython3",
   "version": "3.10.8"
  }
 },
 "nbformat": 4,
 "nbformat_minor": 5
}
